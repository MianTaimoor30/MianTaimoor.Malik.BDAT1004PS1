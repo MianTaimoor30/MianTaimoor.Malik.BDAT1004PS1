{
 "cells": [
  {
   "cell_type": "markdown",
   "id": "63f1375d",
   "metadata": {},
   "source": [
    "# Question 1"
   ]
  },
  {
   "cell_type": "code",
   "execution_count": null,
   "id": "918b9008",
   "metadata": {},
   "outputs": [],
   "source": [
    "//5 - int\n",
    "//5.0 - double\n",
    "//5 > 1 - bool\n",
    "//'5' - char\n",
    "//5 * 2 - int\n",
    "//'5' * 2 - int\n",
    "//'5' + '2' - int\n",
    "//5 / 2 - int\n",
    "//5 % 2 - int\n",
    "//{5,2,1} - Array\n",
    "//5 == 3 - bool\n",
    "//Pi - double"
   ]
  },
  {
   "cell_type": "markdown",
   "id": "b81fbaa2",
   "metadata": {},
   "source": [
    "# Question 2"
   ]
  },
  {
   "cell_type": "markdown",
   "id": "ca08225a",
   "metadata": {},
   "source": [
    "## a"
   ]
  },
  {
   "cell_type": "code",
   "execution_count": 46,
   "id": "74cf8bb3",
   "metadata": {
    "scrolled": false
   },
   "outputs": [
    {
     "name": "stdout",
     "output_type": "stream",
     "text": [
      "34\r\n"
     ]
    }
   ],
   "source": [
    "//Question 2 a)\n",
    "\n",
    "string Stringstheband = \"Supercalifragilisticexpialidocious\";\n",
    "Console.WriteLine(Stringstheband.Length);\n"
   ]
  },
  {
   "cell_type": "markdown",
   "id": "1c8663c6",
   "metadata": {},
   "source": [
    "## b"
   ]
  },
  {
   "cell_type": "code",
   "execution_count": 48,
   "id": "e36a8932",
   "metadata": {},
   "outputs": [
    {
     "name": "stdout",
     "output_type": "stream",
     "text": [
      "True\r\n"
     ]
    }
   ],
   "source": [
    "//Question 2 b)\n",
    "\n",
    "string Substring = \"ice\";\n",
    "\n",
    "Console.WriteLine(Stringstheband.Contains(Substring));\n"
   ]
  },
  {
   "cell_type": "markdown",
   "id": "5a2a3ebf",
   "metadata": {},
   "source": [
    "## c"
   ]
  },
  {
   "cell_type": "code",
   "execution_count": 2,
   "id": "31fed69e",
   "metadata": {},
   "outputs": [
    {
     "name": "stdout",
     "output_type": "stream",
     "text": [
      "34\n",
      "27\n",
      "34\n"
     ]
    }
   ],
   "source": [
    "//Question 2 c)\n",
    "\n",
    "string AB = \"Supercalifragilisticexpialidocious\";\n",
    "Console.WriteLine(AB.Length);\n",
    "\n",
    "string BC = \"Honorificabilitudinitatibus\";\n",
    "Console.WriteLine(BC.Length);\n",
    "\n",
    "string CD = \"Bababadalgharaghtakamminarronnkonn\";\n",
    "Console.WriteLine(CD.Length);\n",
    "\n",
    "// First and Last are the same length and longest\n",
    "// Middle one is the shortest"
   ]
  },
  {
   "cell_type": "markdown",
   "id": "2ba4181c",
   "metadata": {},
   "source": [
    "## d"
   ]
  },
  {
   "cell_type": "code",
   "execution_count": 50,
   "id": "9bcf40e7",
   "metadata": {
    "scrolled": true
   },
   "outputs": [
    {
     "data": {
      "text/html": [
       "<table><thead><tr><th><i>index</i></th><th>value</th></tr></thead><tbody><tr><td>0</td><td>Bartok</td></tr><tr><td>1</td><td>Bellini</td></tr><tr><td>2</td><td>Berlioz</td></tr><tr><td>3</td><td>Bernstein</td></tr><tr><td>4</td><td>Borodin</td></tr><tr><td>5</td><td>Brian</td></tr><tr><td>6</td><td>Buxtehude</td></tr></tbody></table>"
      ]
     },
     "execution_count": 50,
     "metadata": {},
     "output_type": "execute_result"
    }
   ],
   "source": [
    "//Question 2 d)\n",
    "\n",
    "string[] Composers = {\"Berlioz\", \"Borodin\", \"Brian\",\n",
    "\"Bartok\", \"Bellini\", \"Buxtehude\", \"Bernstein\"};\n",
    "Array.Sort(Composers);\n",
    "Composers\n"
   ]
  },
  {
   "cell_type": "markdown",
   "id": "e989e8a7",
   "metadata": {},
   "source": [
    "# Question 3"
   ]
  },
  {
   "cell_type": "code",
   "execution_count": 44,
   "id": "61a1244b",
   "metadata": {},
   "outputs": [
    {
     "name": "stdout",
     "output_type": "stream",
     "text": [
      "1.7320508075688772\r\n"
     ]
    }
   ],
   "source": [
    "//Question 3\n",
    "public static double triangleArea(int a, int b, int c)\n",
    "{\n",
    "    double s = (a + b + c)/2;\n",
    "    double ans = Math.Sqrt(s * (s-a) * (s-b) * (s-c));\n",
    "    return ans;\n",
    "   \n",
    "}\n",
    "double area = triangleArea(2, 2, 2);\n",
    "Console.WriteLine(area);\n"
   ]
  },
  {
   "cell_type": "markdown",
   "id": "9acb85c9",
   "metadata": {},
   "source": [
    "# Question 4"
   ]
  },
  {
   "cell_type": "code",
   "execution_count": 23,
   "id": "09e4c0ae",
   "metadata": {
    "scrolled": true
   },
   "outputs": [
    {
     "name": "stdout",
     "output_type": "stream",
     "text": [
      "The Even elements are:\n",
      "42\n",
      "56\n",
      "32\n",
      "The Odd elements are:\n",
      "25\n",
      "47\n"
     ]
    }
   ],
   "source": [
    "//Question 4\n",
    "int[] Arrow = new int[5];\n",
    "Arrow[0] = 25;\n",
    "Arrow[1] = 47 ;  \n",
    "Arrow[2] = 42;\n",
    "Arrow[3] = 56;\n",
    "Arrow[4] = 32;\n",
    "int[] Even = new int[5];\n",
    "int x = 0;\n",
    "int[] Odd = new int[5];\n",
    "int y = 0;\n",
    "for(int i=0; i < 5; i++)\n",
    "{\n",
    "    \n",
    "    if (Arrow[i] % 2 == 0) \n",
    "    {\n",
    "       Even[x] = Arrow[i];\n",
    "        x = x + 1;\n",
    "    }\n",
    "    \n",
    "    else\n",
    "    {\n",
    "       Odd[y] = Arrow[i];\n",
    "        y = y + 1;\n",
    "    }\n",
    "    \n",
    "}\n",
    "Console.WriteLine(\"The Even elements are:\");\n",
    "    for(int i=0; i < 3; i++)\n",
    "    {\n",
    "        Console.WriteLine(Even[i]);\n",
    "    }\n",
    "Console.WriteLine(\"The Odd elements are:\");\n",
    "    for(int i=0; i < 2; i++)\n",
    "    {\n",
    "        Console.WriteLine(Odd[i]);\n",
    "    }\n",
    "\n",
    "//Even = []\n",
    "//Odd = []\n"
   ]
  },
  {
   "cell_type": "markdown",
   "id": "a28a0e24",
   "metadata": {},
   "source": [
    "# Question 5"
   ]
  },
  {
   "cell_type": "markdown",
   "id": "b2374e6c",
   "metadata": {},
   "source": [
    "## a"
   ]
  },
  {
   "cell_type": "code",
   "execution_count": 33,
   "id": "0ef77b5e",
   "metadata": {
    "scrolled": true
   },
   "outputs": [
    {
     "name": "stdout",
     "output_type": "stream",
     "text": [
      "True\n",
      "False\n"
     ]
    }
   ],
   "source": [
    "//Question 5 a)\n",
    "public static bool inside(double x,double y,double x1,double y1,double x2,double y2)\n",
    "{\n",
    "    if (x >= x1 && x <= x2 && y >= y1 && y <= y2)\n",
    "    {\n",
    "        return true;\n",
    "    }\n",
    "    else \n",
    "    {\n",
    "        return false;\n",
    "    }\n",
    "}\n",
    "Console.WriteLine(inside(1,1,0,0,2,3));\n",
    "Console.WriteLine(inside(-1,-1,0,0,2,3));\n"
   ]
  },
  {
   "cell_type": "markdown",
   "id": "c6029779",
   "metadata": {},
   "source": [
    "## b"
   ]
  },
  {
   "cell_type": "code",
   "execution_count": 42,
   "id": "11d2bc9a",
   "metadata": {},
   "outputs": [
    {
     "name": "stdout",
     "output_type": "stream",
     "text": [
      "False\r\n"
     ]
    }
   ],
   "source": [
    "//Question 5 b)\n",
    "bool Khajji = inside(1,1,0.3,0.5,1.1,0.7);\n",
    "bool Poka = inside(1,1,0.5,0.2,1.1,2);\n",
    "bool check;    \n",
    "    if (Khajji && Poka == true)\n",
    "    {\n",
    "        check = true;\n",
    "    }\n",
    "    else\n",
    "    {\n",
    "        check = false;\n",
    "    }\n",
    "Console.WriteLine(check);\n",
    "\n"
   ]
  }
 ],
 "metadata": {
  "kernelspec": {
   "display_name": ".NET (C#)",
   "language": "C#",
   "name": ".net-csharp"
  },
  "language_info": {
   "file_extension": ".cs",
   "mimetype": "text/x-csharp",
   "name": "C#",
   "pygments_lexer": "csharp",
   "version": "8.0"
  }
 },
 "nbformat": 4,
 "nbformat_minor": 5
}
